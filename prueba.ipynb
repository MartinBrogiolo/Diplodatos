{
 "cells": [
  {
   "cell_type": "code",
   "execution_count": 1,
   "id": "2a693e32-e028-4587-9d8b-18fe6c9726ec",
   "metadata": {},
   "outputs": [],
   "source": [
    "def prob():\n",
    "    por = input('pone un numero ')\n",
    "    a = float(por) / 100\n",
    "    print ('probabilidad de que fran gane en el fifa', a,'%')"
   ]
  },
  {
   "cell_type": "code",
   "execution_count": 2,
   "id": "b61e18bc-1b8d-4455-bfbe-921c4b24e755",
   "metadata": {},
   "outputs": [
    {
     "name": "stdin",
     "output_type": "stream",
     "text": [
      "pone un numero  1\n"
     ]
    },
    {
     "name": "stdout",
     "output_type": "stream",
     "text": [
      "probabilidad de que fran gane en el fifa 0.01 %\n"
     ]
    }
   ],
   "source": [
    "prob()"
   ]
  },
  {
   "cell_type": "code",
   "execution_count": 3,
   "id": "6bce166b-4fce-446a-9446-279f1975c2df",
   "metadata": {},
   "outputs": [
    {
     "name": "stdout",
     "output_type": "stream",
     "text": [
      "Requirement already satisfied: jupyterlab-git in /Users/martinbrogiolo/anaconda3/lib/python3.10/site-packages (0.41.0)\n",
      "Requirement already satisfied: pexpect in /Users/martinbrogiolo/anaconda3/lib/python3.10/site-packages (from jupyterlab-git) (4.8.0)\n",
      "Requirement already satisfied: packaging in /Users/martinbrogiolo/anaconda3/lib/python3.10/site-packages (from jupyterlab-git) (22.0)\n",
      "Requirement already satisfied: traitlets~=5.0 in /Users/martinbrogiolo/anaconda3/lib/python3.10/site-packages (from jupyterlab-git) (5.7.1)\n",
      "Requirement already satisfied: nbformat in /Users/martinbrogiolo/anaconda3/lib/python3.10/site-packages (from jupyterlab-git) (5.7.0)\n",
      "Requirement already satisfied: nbdime~=3.1 in /Users/martinbrogiolo/anaconda3/lib/python3.10/site-packages (from jupyterlab-git) (3.1.1)\n",
      "Requirement already satisfied: jupyter-server<3,>=1.21.0 in /Users/martinbrogiolo/anaconda3/lib/python3.10/site-packages (from jupyterlab-git) (1.23.4)\n",
      "Requirement already satisfied: jupyter-client>=6.1.12 in /Users/martinbrogiolo/anaconda3/lib/python3.10/site-packages (from jupyter-server<3,>=1.21.0->jupyterlab-git) (7.3.4)\n",
      "Requirement already satisfied: jupyter-core>=4.7.0 in /Users/martinbrogiolo/anaconda3/lib/python3.10/site-packages (from jupyter-server<3,>=1.21.0->jupyterlab-git) (5.2.0)\n",
      "Requirement already satisfied: pyzmq>=17 in /Users/martinbrogiolo/anaconda3/lib/python3.10/site-packages (from jupyter-server<3,>=1.21.0->jupyterlab-git) (23.2.0)\n",
      "Requirement already satisfied: websocket-client in /Users/martinbrogiolo/anaconda3/lib/python3.10/site-packages (from jupyter-server<3,>=1.21.0->jupyterlab-git) (0.58.0)\n",
      "Requirement already satisfied: jinja2 in /Users/martinbrogiolo/anaconda3/lib/python3.10/site-packages (from jupyter-server<3,>=1.21.0->jupyterlab-git) (3.1.2)\n",
      "Requirement already satisfied: nbconvert>=6.4.4 in /Users/martinbrogiolo/anaconda3/lib/python3.10/site-packages (from jupyter-server<3,>=1.21.0->jupyterlab-git) (6.5.4)\n",
      "Requirement already satisfied: prometheus-client in /Users/martinbrogiolo/anaconda3/lib/python3.10/site-packages (from jupyter-server<3,>=1.21.0->jupyterlab-git) (0.14.1)\n",
      "Requirement already satisfied: argon2-cffi in /Users/martinbrogiolo/anaconda3/lib/python3.10/site-packages (from jupyter-server<3,>=1.21.0->jupyterlab-git) (21.3.0)\n",
      "Requirement already satisfied: Send2Trash in /Users/martinbrogiolo/anaconda3/lib/python3.10/site-packages (from jupyter-server<3,>=1.21.0->jupyterlab-git) (1.8.0)\n",
      "Requirement already satisfied: terminado>=0.8.3 in /Users/martinbrogiolo/anaconda3/lib/python3.10/site-packages (from jupyter-server<3,>=1.21.0->jupyterlab-git) (0.17.1)\n",
      "Requirement already satisfied: anyio<4,>=3.1.0 in /Users/martinbrogiolo/anaconda3/lib/python3.10/site-packages (from jupyter-server<3,>=1.21.0->jupyterlab-git) (3.5.0)\n",
      "Requirement already satisfied: tornado>=6.1.0 in /Users/martinbrogiolo/anaconda3/lib/python3.10/site-packages (from jupyter-server<3,>=1.21.0->jupyterlab-git) (6.1)\n",
      "Requirement already satisfied: jupyter-server-mathjax>=0.2.2 in /Users/martinbrogiolo/anaconda3/lib/python3.10/site-packages (from nbdime~=3.1->jupyterlab-git) (0.2.6)\n",
      "Requirement already satisfied: requests in /Users/martinbrogiolo/anaconda3/lib/python3.10/site-packages (from nbdime~=3.1->jupyterlab-git) (2.28.1)\n",
      "Requirement already satisfied: pygments in /Users/martinbrogiolo/anaconda3/lib/python3.10/site-packages (from nbdime~=3.1->jupyterlab-git) (2.11.2)\n",
      "Requirement already satisfied: colorama in /Users/martinbrogiolo/anaconda3/lib/python3.10/site-packages (from nbdime~=3.1->jupyterlab-git) (0.4.6)\n",
      "Requirement already satisfied: GitPython!=2.1.4,!=2.1.5,!=2.1.6 in /Users/martinbrogiolo/anaconda3/lib/python3.10/site-packages (from nbdime~=3.1->jupyterlab-git) (3.1.31)\n",
      "Requirement already satisfied: jsonschema>=2.6 in /Users/martinbrogiolo/anaconda3/lib/python3.10/site-packages (from nbformat->jupyterlab-git) (4.17.3)\n",
      "Requirement already satisfied: fastjsonschema in /Users/martinbrogiolo/anaconda3/lib/python3.10/site-packages (from nbformat->jupyterlab-git) (2.16.2)\n",
      "Requirement already satisfied: ptyprocess>=0.5 in /Users/martinbrogiolo/anaconda3/lib/python3.10/site-packages (from pexpect->jupyterlab-git) (0.7.0)\n",
      "Requirement already satisfied: sniffio>=1.1 in /Users/martinbrogiolo/anaconda3/lib/python3.10/site-packages (from anyio<4,>=3.1.0->jupyter-server<3,>=1.21.0->jupyterlab-git) (1.2.0)\n",
      "Requirement already satisfied: idna>=2.8 in /Users/martinbrogiolo/anaconda3/lib/python3.10/site-packages (from anyio<4,>=3.1.0->jupyter-server<3,>=1.21.0->jupyterlab-git) (3.4)\n",
      "Requirement already satisfied: gitdb<5,>=4.0.1 in /Users/martinbrogiolo/anaconda3/lib/python3.10/site-packages (from GitPython!=2.1.4,!=2.1.5,!=2.1.6->nbdime~=3.1->jupyterlab-git) (4.0.10)\n",
      "Requirement already satisfied: MarkupSafe>=2.0 in /Users/martinbrogiolo/anaconda3/lib/python3.10/site-packages (from jinja2->jupyter-server<3,>=1.21.0->jupyterlab-git) (2.1.1)\n",
      "Requirement already satisfied: pyrsistent!=0.17.0,!=0.17.1,!=0.17.2,>=0.14.0 in /Users/martinbrogiolo/anaconda3/lib/python3.10/site-packages (from jsonschema>=2.6->nbformat->jupyterlab-git) (0.18.0)\n",
      "Requirement already satisfied: attrs>=17.4.0 in /Users/martinbrogiolo/anaconda3/lib/python3.10/site-packages (from jsonschema>=2.6->nbformat->jupyterlab-git) (22.1.0)\n",
      "Requirement already satisfied: python-dateutil>=2.8.2 in /Users/martinbrogiolo/anaconda3/lib/python3.10/site-packages (from jupyter-client>=6.1.12->jupyter-server<3,>=1.21.0->jupyterlab-git) (2.8.2)\n",
      "Requirement already satisfied: nest-asyncio>=1.5.4 in /Users/martinbrogiolo/anaconda3/lib/python3.10/site-packages (from jupyter-client>=6.1.12->jupyter-server<3,>=1.21.0->jupyterlab-git) (1.5.6)\n",
      "Requirement already satisfied: entrypoints in /Users/martinbrogiolo/anaconda3/lib/python3.10/site-packages (from jupyter-client>=6.1.12->jupyter-server<3,>=1.21.0->jupyterlab-git) (0.4)\n",
      "Requirement already satisfied: platformdirs>=2.5 in /Users/martinbrogiolo/anaconda3/lib/python3.10/site-packages (from jupyter-core>=4.7.0->jupyter-server<3,>=1.21.0->jupyterlab-git) (2.5.2)\n",
      "Requirement already satisfied: jupyterlab-pygments in /Users/martinbrogiolo/anaconda3/lib/python3.10/site-packages (from nbconvert>=6.4.4->jupyter-server<3,>=1.21.0->jupyterlab-git) (0.1.2)\n",
      "Requirement already satisfied: lxml in /Users/martinbrogiolo/anaconda3/lib/python3.10/site-packages (from nbconvert>=6.4.4->jupyter-server<3,>=1.21.0->jupyterlab-git) (4.9.1)\n",
      "Requirement already satisfied: mistune<2,>=0.8.1 in /Users/martinbrogiolo/anaconda3/lib/python3.10/site-packages (from nbconvert>=6.4.4->jupyter-server<3,>=1.21.0->jupyterlab-git) (0.8.4)\n",
      "Requirement already satisfied: beautifulsoup4 in /Users/martinbrogiolo/anaconda3/lib/python3.10/site-packages (from nbconvert>=6.4.4->jupyter-server<3,>=1.21.0->jupyterlab-git) (4.11.1)\n",
      "Requirement already satisfied: pandocfilters>=1.4.1 in /Users/martinbrogiolo/anaconda3/lib/python3.10/site-packages (from nbconvert>=6.4.4->jupyter-server<3,>=1.21.0->jupyterlab-git) (1.5.0)\n",
      "Requirement already satisfied: tinycss2 in /Users/martinbrogiolo/anaconda3/lib/python3.10/site-packages (from nbconvert>=6.4.4->jupyter-server<3,>=1.21.0->jupyterlab-git) (1.2.1)\n",
      "Requirement already satisfied: bleach in /Users/martinbrogiolo/anaconda3/lib/python3.10/site-packages (from nbconvert>=6.4.4->jupyter-server<3,>=1.21.0->jupyterlab-git) (4.1.0)\n",
      "Requirement already satisfied: defusedxml in /Users/martinbrogiolo/anaconda3/lib/python3.10/site-packages (from nbconvert>=6.4.4->jupyter-server<3,>=1.21.0->jupyterlab-git) (0.7.1)\n",
      "Requirement already satisfied: nbclient>=0.5.0 in /Users/martinbrogiolo/anaconda3/lib/python3.10/site-packages (from nbconvert>=6.4.4->jupyter-server<3,>=1.21.0->jupyterlab-git) (0.5.13)\n",
      "Requirement already satisfied: argon2-cffi-bindings in /Users/martinbrogiolo/anaconda3/lib/python3.10/site-packages (from argon2-cffi->jupyter-server<3,>=1.21.0->jupyterlab-git) (21.2.0)\n",
      "Requirement already satisfied: urllib3<1.27,>=1.21.1 in /Users/martinbrogiolo/anaconda3/lib/python3.10/site-packages (from requests->nbdime~=3.1->jupyterlab-git) (1.26.14)\n",
      "Requirement already satisfied: charset-normalizer<3,>=2 in /Users/martinbrogiolo/anaconda3/lib/python3.10/site-packages (from requests->nbdime~=3.1->jupyterlab-git) (2.0.4)\n",
      "Requirement already satisfied: certifi>=2017.4.17 in /Users/martinbrogiolo/anaconda3/lib/python3.10/site-packages (from requests->nbdime~=3.1->jupyterlab-git) (2022.12.7)\n",
      "Requirement already satisfied: six in /Users/martinbrogiolo/anaconda3/lib/python3.10/site-packages (from websocket-client->jupyter-server<3,>=1.21.0->jupyterlab-git) (1.16.0)\n",
      "Requirement already satisfied: smmap<6,>=3.0.1 in /Users/martinbrogiolo/anaconda3/lib/python3.10/site-packages (from gitdb<5,>=4.0.1->GitPython!=2.1.4,!=2.1.5,!=2.1.6->nbdime~=3.1->jupyterlab-git) (5.0.0)\n",
      "Requirement already satisfied: cffi>=1.0.1 in /Users/martinbrogiolo/anaconda3/lib/python3.10/site-packages (from argon2-cffi-bindings->argon2-cffi->jupyter-server<3,>=1.21.0->jupyterlab-git) (1.15.1)\n",
      "Requirement already satisfied: soupsieve>1.2 in /Users/martinbrogiolo/anaconda3/lib/python3.10/site-packages (from beautifulsoup4->nbconvert>=6.4.4->jupyter-server<3,>=1.21.0->jupyterlab-git) (2.3.2.post1)\n",
      "Requirement already satisfied: webencodings in /Users/martinbrogiolo/anaconda3/lib/python3.10/site-packages (from bleach->nbconvert>=6.4.4->jupyter-server<3,>=1.21.0->jupyterlab-git) (0.5.1)\n",
      "Requirement already satisfied: pycparser in /Users/martinbrogiolo/anaconda3/lib/python3.10/site-packages (from cffi>=1.0.1->argon2-cffi-bindings->argon2-cffi->jupyter-server<3,>=1.21.0->jupyterlab-git) (2.21)\n",
      "Note: you may need to restart the kernel to use updated packages.\n"
     ]
    }
   ],
   "source": [
    "pip install jupyterlab-git\n"
   ]
  },
  {
   "cell_type": "code",
   "execution_count": 4,
   "id": "cd44b7f8-5461-48de-a6f1-1ad2fe8b77d3",
   "metadata": {},
   "outputs": [
    {
     "name": "stdout",
     "output_type": "stream",
     "text": [
      "Collecting package metadata (current_repodata.json): done\n",
      "Solving environment: done\n",
      "\n",
      "# All requested packages already installed.\n",
      "\n",
      "\n",
      "Note: you may need to restart the kernel to use updated packages.\n"
     ]
    }
   ],
   "source": [
    "\n",
    "\n",
    "conda install -c conda-forge jupyterlab-git"
   ]
  },
  {
   "cell_type": "code",
   "execution_count": 5,
   "id": "198113b2-faf4-4cde-a9fa-ee89fff4f321",
   "metadata": {},
   "outputs": [
    {
     "ename": "SyntaxError",
     "evalue": "invalid syntax (3118988032.py, line 1)",
     "output_type": "error",
     "traceback": [
      "\u001b[0;36m  Cell \u001b[0;32mIn[5], line 1\u001b[0;36m\u001b[0m\n\u001b[0;31m    git config --global user.name 'MartinBrogiolo'\u001b[0m\n\u001b[0m        ^\u001b[0m\n\u001b[0;31mSyntaxError\u001b[0m\u001b[0;31m:\u001b[0m invalid syntax\n"
     ]
    }
   ],
   "source": [
    "git config --global user.name 'MartinBrogiolo'\n",
    "git config --global user.email 'martinbrogiolo1@gmail.com'"
   ]
  },
  {
   "cell_type": "code",
   "execution_count": null,
   "id": "e73b03e2-5f5b-4337-936a-d4cad4b53cb1",
   "metadata": {},
   "outputs": [],
   "source": []
  }
 ],
 "metadata": {
  "kernelspec": {
   "display_name": "Python 3 (ipykernel)",
   "language": "python",
   "name": "python3"
  },
  "language_info": {
   "codemirror_mode": {
    "name": "ipython",
    "version": 3
   },
   "file_extension": ".py",
   "mimetype": "text/x-python",
   "name": "python",
   "nbconvert_exporter": "python",
   "pygments_lexer": "ipython3",
   "version": "3.10.9"
  }
 },
 "nbformat": 4,
 "nbformat_minor": 5
}
